{
 "cells": [
  {
   "cell_type": "code",
   "execution_count": 1,
   "metadata": {},
   "outputs": [],
   "source": [
    "from sklearn.model_selection import train_test_split\n",
    "from xgboost import XGBRegressor\n",
    "import pandas as pd\n",
    "import numpy as np\n",
    "import matplotlib.pyplot as plt\n",
    "from sklearn.model_selection import cross_val_score\n",
    "from sklearn.metrics import mean_squared_error, r2_score, mean_absolute_error, mean_squared_error\n",
    "from sklearn.model_selection import cross_val_score, KFold"
   ]
  },
  {
   "cell_type": "code",
   "execution_count": 2,
   "metadata": {},
   "outputs": [],
   "source": [
    "# Get the seed\n",
    "import numpy as np\n",
    "np.random.seed(2676)"
   ]
  },
  {
   "cell_type": "code",
   "execution_count": 3,
   "metadata": {},
   "outputs": [],
   "source": [
    "# Get the data\n",
    "all_data = pd.read_csv(\"input_data/model_ready_data.csv\")"
   ]
  },
  {
   "cell_type": "markdown",
   "metadata": {},
   "source": [
    "### Test/Train Split"
   ]
  },
  {
   "cell_type": "code",
   "execution_count": 4,
   "metadata": {},
   "outputs": [],
   "source": [
    "# Get the y and x data in different variables\n",
    "y_label = all_data[\"PRICE\"]\n",
    "X_data = all_data.drop(columns=[\"PRICE\", \"index\", \"TYPE\", \"LOCALITY\", \"SUBLOCALITY\"])\n",
    "\n",
    "# Split the data into train and test sets\n",
    "train_X, test_X, train_y, test_y = train_test_split(X_data, y_label, test_size=0.3, random_state=43)"
   ]
  },
  {
   "cell_type": "code",
   "execution_count": 5,
   "metadata": {},
   "outputs": [
    {
     "name": "stdout",
     "output_type": "stream",
     "text": [
      "X Train Data Length = 3357 \t\t X Test Data Length = 1440 \n",
      " Y Train Data Length = 3357 \t\t Y Test Data Length = 1440\n"
     ]
    }
   ],
   "source": [
    "print(f\"X Train Data Length = {len(train_X)} \\t\\t X Test Data Length = {len(test_X)} \\n Y Train Data Length = {len(train_y)} \\t\\t Y Test Data Length = {len(test_y)}\")"
   ]
  },
  {
   "cell_type": "markdown",
   "metadata": {},
   "source": [
    "### XGBoost Decision Tree Model"
   ]
  },
  {
   "cell_type": "code",
   "execution_count": 6,
   "metadata": {},
   "outputs": [
    {
     "data": {
      "text/html": [
       "<style>#sk-container-id-1 {color: black;background-color: white;}#sk-container-id-1 pre{padding: 0;}#sk-container-id-1 div.sk-toggleable {background-color: white;}#sk-container-id-1 label.sk-toggleable__label {cursor: pointer;display: block;width: 100%;margin-bottom: 0;padding: 0.3em;box-sizing: border-box;text-align: center;}#sk-container-id-1 label.sk-toggleable__label-arrow:before {content: \"▸\";float: left;margin-right: 0.25em;color: #696969;}#sk-container-id-1 label.sk-toggleable__label-arrow:hover:before {color: black;}#sk-container-id-1 div.sk-estimator:hover label.sk-toggleable__label-arrow:before {color: black;}#sk-container-id-1 div.sk-toggleable__content {max-height: 0;max-width: 0;overflow: hidden;text-align: left;background-color: #f0f8ff;}#sk-container-id-1 div.sk-toggleable__content pre {margin: 0.2em;color: black;border-radius: 0.25em;background-color: #f0f8ff;}#sk-container-id-1 input.sk-toggleable__control:checked~div.sk-toggleable__content {max-height: 200px;max-width: 100%;overflow: auto;}#sk-container-id-1 input.sk-toggleable__control:checked~label.sk-toggleable__label-arrow:before {content: \"▾\";}#sk-container-id-1 div.sk-estimator input.sk-toggleable__control:checked~label.sk-toggleable__label {background-color: #d4ebff;}#sk-container-id-1 div.sk-label input.sk-toggleable__control:checked~label.sk-toggleable__label {background-color: #d4ebff;}#sk-container-id-1 input.sk-hidden--visually {border: 0;clip: rect(1px 1px 1px 1px);clip: rect(1px, 1px, 1px, 1px);height: 1px;margin: -1px;overflow: hidden;padding: 0;position: absolute;width: 1px;}#sk-container-id-1 div.sk-estimator {font-family: monospace;background-color: #f0f8ff;border: 1px dotted black;border-radius: 0.25em;box-sizing: border-box;margin-bottom: 0.5em;}#sk-container-id-1 div.sk-estimator:hover {background-color: #d4ebff;}#sk-container-id-1 div.sk-parallel-item::after {content: \"\";width: 100%;border-bottom: 1px solid gray;flex-grow: 1;}#sk-container-id-1 div.sk-label:hover label.sk-toggleable__label {background-color: #d4ebff;}#sk-container-id-1 div.sk-serial::before {content: \"\";position: absolute;border-left: 1px solid gray;box-sizing: border-box;top: 0;bottom: 0;left: 50%;z-index: 0;}#sk-container-id-1 div.sk-serial {display: flex;flex-direction: column;align-items: center;background-color: white;padding-right: 0.2em;padding-left: 0.2em;position: relative;}#sk-container-id-1 div.sk-item {position: relative;z-index: 1;}#sk-container-id-1 div.sk-parallel {display: flex;align-items: stretch;justify-content: center;background-color: white;position: relative;}#sk-container-id-1 div.sk-item::before, #sk-container-id-1 div.sk-parallel-item::before {content: \"\";position: absolute;border-left: 1px solid gray;box-sizing: border-box;top: 0;bottom: 0;left: 50%;z-index: -1;}#sk-container-id-1 div.sk-parallel-item {display: flex;flex-direction: column;z-index: 1;position: relative;background-color: white;}#sk-container-id-1 div.sk-parallel-item:first-child::after {align-self: flex-end;width: 50%;}#sk-container-id-1 div.sk-parallel-item:last-child::after {align-self: flex-start;width: 50%;}#sk-container-id-1 div.sk-parallel-item:only-child::after {width: 0;}#sk-container-id-1 div.sk-dashed-wrapped {border: 1px dashed gray;margin: 0 0.4em 0.5em 0.4em;box-sizing: border-box;padding-bottom: 0.4em;background-color: white;}#sk-container-id-1 div.sk-label label {font-family: monospace;font-weight: bold;display: inline-block;line-height: 1.2em;}#sk-container-id-1 div.sk-label-container {text-align: center;}#sk-container-id-1 div.sk-container {/* jupyter's `normalize.less` sets `[hidden] { display: none; }` but bootstrap.min.css set `[hidden] { display: none !important; }` so we also need the `!important` here to be able to override the default hidden behavior on the sphinx rendered scikit-learn.org. See: https://github.com/scikit-learn/scikit-learn/issues/21755 */display: inline-block !important;position: relative;}#sk-container-id-1 div.sk-text-repr-fallback {display: none;}</style><div id=\"sk-container-id-1\" class=\"sk-top-container\"><div class=\"sk-text-repr-fallback\"><pre>XGBRegressor(base_score=None, booster=None, callbacks=None,\n",
       "             colsample_bylevel=None, colsample_bynode=None,\n",
       "             colsample_bytree=None, device=None, early_stopping_rounds=None,\n",
       "             enable_categorical=False, eval_metric=None, feature_types=None,\n",
       "             gamma=None, grow_policy=None, importance_type=None,\n",
       "             interaction_constraints=None, learning_rate=0.45, max_bin=None,\n",
       "             max_cat_threshold=None, max_cat_to_onehot=None,\n",
       "             max_delta_step=None, max_depth=3, max_leaves=None,\n",
       "             min_child_weight=None, missing=nan, monotone_constraints=None,\n",
       "             multi_strategy=None, n_estimators=100, n_jobs=None,\n",
       "             num_parallel_tree=None, random_state=30, ...)</pre><b>In a Jupyter environment, please rerun this cell to show the HTML representation or trust the notebook. <br />On GitHub, the HTML representation is unable to render, please try loading this page with nbviewer.org.</b></div><div class=\"sk-container\" hidden><div class=\"sk-item\"><div class=\"sk-estimator sk-toggleable\"><input class=\"sk-toggleable__control sk-hidden--visually\" id=\"sk-estimator-id-1\" type=\"checkbox\" checked><label for=\"sk-estimator-id-1\" class=\"sk-toggleable__label sk-toggleable__label-arrow\">XGBRegressor</label><div class=\"sk-toggleable__content\"><pre>XGBRegressor(base_score=None, booster=None, callbacks=None,\n",
       "             colsample_bylevel=None, colsample_bynode=None,\n",
       "             colsample_bytree=None, device=None, early_stopping_rounds=None,\n",
       "             enable_categorical=False, eval_metric=None, feature_types=None,\n",
       "             gamma=None, grow_policy=None, importance_type=None,\n",
       "             interaction_constraints=None, learning_rate=0.45, max_bin=None,\n",
       "             max_cat_threshold=None, max_cat_to_onehot=None,\n",
       "             max_delta_step=None, max_depth=3, max_leaves=None,\n",
       "             min_child_weight=None, missing=nan, monotone_constraints=None,\n",
       "             multi_strategy=None, n_estimators=100, n_jobs=None,\n",
       "             num_parallel_tree=None, random_state=30, ...)</pre></div></div></div></div></div>"
      ],
      "text/plain": [
       "XGBRegressor(base_score=None, booster=None, callbacks=None,\n",
       "             colsample_bylevel=None, colsample_bynode=None,\n",
       "             colsample_bytree=None, device=None, early_stopping_rounds=None,\n",
       "             enable_categorical=False, eval_metric=None, feature_types=None,\n",
       "             gamma=None, grow_policy=None, importance_type=None,\n",
       "             interaction_constraints=None, learning_rate=0.45, max_bin=None,\n",
       "             max_cat_threshold=None, max_cat_to_onehot=None,\n",
       "             max_delta_step=None, max_depth=3, max_leaves=None,\n",
       "             min_child_weight=None, missing=nan, monotone_constraints=None,\n",
       "             multi_strategy=None, n_estimators=100, n_jobs=None,\n",
       "             num_parallel_tree=None, random_state=30, ...)"
      ]
     },
     "execution_count": 6,
     "metadata": {},
     "output_type": "execute_result"
    }
   ],
   "source": [
    "# Create an XGBoost Regressor\n",
    "xgboost_model = XGBRegressor(n_estimators=100, random_state=30, max_depth=3, learning_rate=0.45)\n",
    "\n",
    "# Train the model on the training data\n",
    "xgboost_model.fit(train_X, train_y)"
   ]
  },
  {
   "cell_type": "code",
   "execution_count": 7,
   "metadata": {},
   "outputs": [],
   "source": [
    "# Make predictions on the test data\n",
    "y_pred = xgboost_model.predict(test_X)"
   ]
  },
  {
   "cell_type": "markdown",
   "metadata": {},
   "source": [
    "### Model Prediction Statistics"
   ]
  },
  {
   "cell_type": "code",
   "execution_count": 8,
   "metadata": {},
   "outputs": [
    {
     "name": "stdout",
     "output_type": "stream",
     "text": [
      "Mean Squared Error (MSE): 5405796176469.194\n",
      "Coefficient of Determination (R-squared): 0.6621435801714401\n",
      "Mean Absolute Error (MAE): 847446.5373335097\n",
      "Root Mean Squared Error (RMSE): 2325036.8118524905\n",
      "K-fold Cross-validated R-squared: 0.35935911730026715\n"
     ]
    }
   ],
   "source": [
    "# Mean Squared Error (MSE)\n",
    "mse = mean_squared_error(test_y, y_pred)\n",
    "print(f'Mean Squared Error (MSE): {mse}')\n",
    "\n",
    "# Coefficient of Determination (R-squared)\n",
    "r_squared = r2_score(test_y, y_pred)\n",
    "print(f'Coefficient of Determination (R-squared): {r_squared}')\n",
    "\n",
    "# Mean Absolute Error (MAE)\n",
    "mae = mean_absolute_error(test_y, y_pred)\n",
    "print(f'Mean Absolute Error (MAE): {mae}')\n",
    "\n",
    "# Root Mean Squared Error (RMSE)\n",
    "rmse = np.sqrt(mean_squared_error(test_y, y_pred))\n",
    "print(f'Root Mean Squared Error (RMSE): {rmse}')\n",
    "\n",
    "# Define the number of folds (k)\n",
    "# You can adjust this based on your preference\n",
    "num_folds = 5  \n",
    "\n",
    "# Create a KFold object\n",
    "kf = KFold(n_splits=num_folds, shuffle=True, random_state=42)\n",
    "\n",
    "# Perform k-fold cross-validation for R-squared\n",
    "cross_val_r_squared = cross_val_score(xgboost_model, train_X, train_y, cv=kf, scoring='r2')\n",
    "\n",
    "# Display the results\n",
    "print(f'K-fold Cross-validated R-squared: {np.mean(cross_val_r_squared)}')"
   ]
  },
  {
   "cell_type": "code",
   "execution_count": 9,
   "metadata": {},
   "outputs": [
    {
     "data": {
      "image/png": "[encoded data removed]",
      "text/plain": [
       "<Figure size 640x480 with 1 Axes>"
      ]
     },
     "metadata": {},
     "output_type": "display_data"
    }
   ],
   "source": [
    "# Plot outputs\n",
    "plt.scatter(test_y, y_pred, color=\"black\")\n",
    "\n",
    "plt.xlabel(\"Actual Values\")\n",
    "plt.ylabel(\"Predicted Values\")\n",
    "plt.title(\"XGBoost: Actual vs Predicted Values\")\n",
    "plt.savefig('output/xgboost.jpg')\n",
    "plt.show()"
   ]
  },
  {
   "cell_type": "code",
   "execution_count": 10,
   "metadata": {},
   "outputs": [
    {
     "name": "stdout",
     "output_type": "stream",
     "text": [
      "                               Feature  Importance\n",
      "8               TYPE_is_Condo for sale    0.201742\n",
      "24         LOCALITY_is_New York County    0.174766\n",
      "4                                STATE    0.105339\n",
      "5                          STREET_NAME    0.100841\n",
      "3                         PROPERTYSQFT    0.093472\n",
      "16  TYPE_is_Multi-family home for sale    0.069725\n",
      "1                                 BEDS    0.045877\n",
      "0                          BROKERTITLE    0.040436\n",
      "6               TYPE_is_Co-op for sale    0.038595\n",
      "2                                 BATH    0.035463\n",
      "46      SUBLOCALITY_is_Richmond County    0.023149\n",
      "18          TYPE_is_Townhouse for sale    0.022052\n",
      "40            SUBLOCALITY_is_Manhattan    0.015403\n",
      "42      SUBLOCALITY_is_New York County    0.010650\n",
      "39         SUBLOCALITY_is_Kings County    0.005411\n",
      "13              TYPE_is_House for sale    0.003799\n",
      "11                    TYPE_is_For sale    0.003109\n",
      "22            LOCALITY_is_Kings County    0.002297\n",
      "23                LOCALITY_is_New York    0.002134\n",
      "14               TYPE_is_Land for sale    0.001892\n",
      "12                 TYPE_is_Foreclosure    0.001614\n",
      "44        SUBLOCALITY_is_Queens County    0.000897\n",
      "17                     TYPE_is_Pending    0.000672\n",
      "30         SUBLOCALITY_is_Bronx County    0.000664\n",
      "43               SUBLOCALITY_is_Queens    0.000000\n",
      "45            SUBLOCALITY_is_Rego Park    0.000000\n",
      "35           SUBLOCALITY_is_East Bronx    0.000000\n",
      "47            SUBLOCALITY_is_Riverdale    0.000000\n",
      "41             SUBLOCALITY_is_New York    0.000000\n",
      "48        SUBLOCALITY_is_Snyder Avenue    0.000000\n",
      "49        SUBLOCALITY_is_Staten Island    0.000000\n",
      "38      SUBLOCALITY_is_Jackson Heights    0.000000\n",
      "37        SUBLOCALITY_is_Fort Hamilton    0.000000\n",
      "36             SUBLOCALITY_is_Flushing    0.000000\n",
      "25                  LOCALITY_is_Queens    0.000000\n",
      "34                SUBLOCALITY_is_Dumbo    0.000000\n",
      "33         SUBLOCALITY_is_Coney Island    0.000000\n",
      "32     SUBLOCALITY_is_Brooklyn Heights    0.000000\n",
      "31             SUBLOCALITY_is_Brooklyn    0.000000\n",
      "29           LOCALITY_is_United States    0.000000\n",
      "28               LOCALITY_is_The Bronx    0.000000\n",
      "27         LOCALITY_is_Richmond County    0.000000\n",
      "26           LOCALITY_is_Queens County    0.000000\n",
      "21                LOCALITY_is_Flatbush    0.000000\n",
      "20                LOCALITY_is_Brooklyn    0.000000\n",
      "19            LOCALITY_is_Bronx County    0.000000\n",
      "15       TYPE_is_Mobile house for sale    0.000000\n",
      "10                  TYPE_is_Contingent    0.000000\n",
      "9              TYPE_is_Condop for sale    0.000000\n",
      "7                  TYPE_is_Coming Soon    0.000000\n",
      "50            SUBLOCALITY_is_The Bronx    0.000000\n"
     ]
    }
   ],
   "source": [
    "# Get feature importances\n",
    "feature_importances = xgboost_model.feature_importances_\n",
    "\n",
    "# Create a DataFrame to display the feature importances\n",
    "coeff = pd.DataFrame(list(zip(train_X.columns, feature_importances)), columns=['Feature', 'Importance'])\n",
    "coeff.sort_values('Importance', ascending=False, inplace=True)\n",
    "\n",
    "# Print the sorted DataFrame\n",
    "print(coeff)"
   ]
  },
  {
   "cell_type": "code",
   "execution_count": 11,
   "metadata": {},
   "outputs": [
    {
     "data": {
      "text/plain": [
       "(-0.001, 0.04)"
      ]
     },
     "execution_count": 11,
     "metadata": {},
     "output_type": "execute_result"
    },
    {
     "data": {
      "image/png": "[encoded data removed]",
      "text/plain": [
       "<Figure size 1000x700 with 1 Axes>"
      ]
     },
     "metadata": {},
     "output_type": "display_data"
    }
   ],
   "source": [
    "one_hot_attribute_list = [\"TYPE\", \"LOCALITY\", \"SUBLOCALITY\"]\n",
    "\n",
    "features = coeff[\"Feature\"]\n",
    "weights = coeff[\"Importance\"]\n",
    "\n",
    "box_plot_dict = {\n",
    "    \"TYPE\": [],\n",
    "    \"LOCALITY\": [],\n",
    "    \"SUBLOCALITY\": [],\n",
    "}\n",
    "\n",
    "for attribute in one_hot_attribute_list:\n",
    "    for i in range(len(features)):\n",
    "        feature = str(features[i])\n",
    "        if feature.startswith(attribute):\n",
    "            box_plot_dict[attribute].append(weights[i])\n",
    "\n",
    "fig = plt.figure(figsize =(10, 7))\n",
    " \n",
    "# Creating plot\n",
    "plt.boxplot([box_plot_dict[\"TYPE\"], box_plot_dict[\"LOCALITY\"], box_plot_dict[\"SUBLOCALITY\"]])\n",
    "plt.xticks(range(1, len(one_hot_attribute_list) + 1), one_hot_attribute_list)\n",
    "plt.ylim([-0.001, 0.04])"
   ]
  }
 ],
 "metadata": {
  "kernelspec": {
   "display_name": "Python 3",
   "language": "python",
   "name": "python3"
  },
  "language_info": {
   "codemirror_mode": {
    "name": "ipython",
    "version": 3
   },
   "file_extension": ".py",
   "mimetype": "text/x-python",
   "name": "python",
   "nbconvert_exporter": "python",
   "pygments_lexer": "ipython3",
   "version": "3.10.11"
  }
 },
 "nbformat": 4,
 "nbformat_minor": 2
}
